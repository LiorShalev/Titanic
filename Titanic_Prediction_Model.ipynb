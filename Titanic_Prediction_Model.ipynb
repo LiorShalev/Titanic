{
 "cells": [
  {
   "cell_type": "markdown",
   "metadata": {},
   "source": [
    "### Titanic Survival Prediction"
   ]
  },
  {
   "cell_type": "markdown",
   "metadata": {},
   "source": [
    "**Objective**: Predict whether a passenger survived the Titanic disaster using machine learning techniques.\n",
    "\n",
    "**Dataset**: [Titanic Dataset from Kaggle](https://www.kaggle.com/competitions/titanic)"
   ]
  },
  {
   "cell_type": "markdown",
   "metadata": {},
   "source": [
    "Step 1: Import Libraries\n",
    "\n",
    "Import all the libraries we'll need throughout the project."
   ]
  },
  {
   "cell_type": "code",
   "execution_count": 1,
   "metadata": {},
   "outputs": [],
   "source": [
    "# Data manipulation and analysis\n",
    "import pandas as pd\n",
    "import numpy as np\n",
    "\n",
    "# Data visualization\n",
    "import matplotlib.pyplot as plt\n",
    "import seaborn as sns\n",
    "%matplotlib inline\n",
    "\n",
    "# Machine Learning\n",
    "from sklearn.model_selection import train_test_split, RandomizedSearchCV\n",
    "from sklearn.ensemble import RandomForestClassifier\n",
    "from sklearn.metrics import accuracy_score, confusion_matrix, classification_report"
   ]
  },
  {
   "cell_type": "markdown",
   "metadata": {},
   "source": [
    "Step 2: Data Loading and Exploration\n",
    "\n",
    "2.1 Load the Dataset\n",
    "\n",
    "Load the Titanic dataset into a Pandas DataFrame."
   ]
  },
  {
   "cell_type": "code",
   "execution_count": 2,
   "metadata": {},
   "outputs": [
    {
     "data": {
      "text/html": [
       "<div>\n",
       "<style scoped>\n",
       "    .dataframe tbody tr th:only-of-type {\n",
       "        vertical-align: middle;\n",
       "    }\n",
       "\n",
       "    .dataframe tbody tr th {\n",
       "        vertical-align: top;\n",
       "    }\n",
       "\n",
       "    .dataframe thead th {\n",
       "        text-align: right;\n",
       "    }\n",
       "</style>\n",
       "<table border=\"1\" class=\"dataframe\">\n",
       "  <thead>\n",
       "    <tr style=\"text-align: right;\">\n",
       "      <th></th>\n",
       "      <th>PassengerId</th>\n",
       "      <th>Survived</th>\n",
       "      <th>Pclass</th>\n",
       "      <th>Name</th>\n",
       "      <th>Sex</th>\n",
       "      <th>Age</th>\n",
       "      <th>SibSp</th>\n",
       "      <th>Parch</th>\n",
       "      <th>Ticket</th>\n",
       "      <th>Fare</th>\n",
       "      <th>Cabin</th>\n",
       "      <th>Embarked</th>\n",
       "    </tr>\n",
       "  </thead>\n",
       "  <tbody>\n",
       "    <tr>\n",
       "      <th>0</th>\n",
       "      <td>1</td>\n",
       "      <td>0</td>\n",
       "      <td>3</td>\n",
       "      <td>Braund, Mr. Owen Harris</td>\n",
       "      <td>male</td>\n",
       "      <td>22.0</td>\n",
       "      <td>1</td>\n",
       "      <td>0</td>\n",
       "      <td>A/5 21171</td>\n",
       "      <td>7.2500</td>\n",
       "      <td>NaN</td>\n",
       "      <td>S</td>\n",
       "    </tr>\n",
       "    <tr>\n",
       "      <th>1</th>\n",
       "      <td>2</td>\n",
       "      <td>1</td>\n",
       "      <td>1</td>\n",
       "      <td>Cumings, Mrs. John Bradley (Florence Briggs Th...</td>\n",
       "      <td>female</td>\n",
       "      <td>38.0</td>\n",
       "      <td>1</td>\n",
       "      <td>0</td>\n",
       "      <td>PC 17599</td>\n",
       "      <td>71.2833</td>\n",
       "      <td>C85</td>\n",
       "      <td>C</td>\n",
       "    </tr>\n",
       "    <tr>\n",
       "      <th>2</th>\n",
       "      <td>3</td>\n",
       "      <td>1</td>\n",
       "      <td>3</td>\n",
       "      <td>Heikkinen, Miss. Laina</td>\n",
       "      <td>female</td>\n",
       "      <td>26.0</td>\n",
       "      <td>0</td>\n",
       "      <td>0</td>\n",
       "      <td>STON/O2. 3101282</td>\n",
       "      <td>7.9250</td>\n",
       "      <td>NaN</td>\n",
       "      <td>S</td>\n",
       "    </tr>\n",
       "    <tr>\n",
       "      <th>3</th>\n",
       "      <td>4</td>\n",
       "      <td>1</td>\n",
       "      <td>1</td>\n",
       "      <td>Futrelle, Mrs. Jacques Heath (Lily May Peel)</td>\n",
       "      <td>female</td>\n",
       "      <td>35.0</td>\n",
       "      <td>1</td>\n",
       "      <td>0</td>\n",
       "      <td>113803</td>\n",
       "      <td>53.1000</td>\n",
       "      <td>C123</td>\n",
       "      <td>S</td>\n",
       "    </tr>\n",
       "    <tr>\n",
       "      <th>4</th>\n",
       "      <td>5</td>\n",
       "      <td>0</td>\n",
       "      <td>3</td>\n",
       "      <td>Allen, Mr. William Henry</td>\n",
       "      <td>male</td>\n",
       "      <td>35.0</td>\n",
       "      <td>0</td>\n",
       "      <td>0</td>\n",
       "      <td>373450</td>\n",
       "      <td>8.0500</td>\n",
       "      <td>NaN</td>\n",
       "      <td>S</td>\n",
       "    </tr>\n",
       "  </tbody>\n",
       "</table>\n",
       "</div>"
      ],
      "text/plain": [
       "   PassengerId  Survived  Pclass  \\\n",
       "0            1         0       3   \n",
       "1            2         1       1   \n",
       "2            3         1       3   \n",
       "3            4         1       1   \n",
       "4            5         0       3   \n",
       "\n",
       "                                                Name     Sex   Age  SibSp  \\\n",
       "0                            Braund, Mr. Owen Harris    male  22.0      1   \n",
       "1  Cumings, Mrs. John Bradley (Florence Briggs Th...  female  38.0      1   \n",
       "2                             Heikkinen, Miss. Laina  female  26.0      0   \n",
       "3       Futrelle, Mrs. Jacques Heath (Lily May Peel)  female  35.0      1   \n",
       "4                           Allen, Mr. William Henry    male  35.0      0   \n",
       "\n",
       "   Parch            Ticket     Fare Cabin Embarked  \n",
       "0      0         A/5 21171   7.2500   NaN        S  \n",
       "1      0          PC 17599  71.2833   C85        C  \n",
       "2      0  STON/O2. 3101282   7.9250   NaN        S  \n",
       "3      0            113803  53.1000  C123        S  \n",
       "4      0            373450   8.0500   NaN        S  "
      ]
     },
     "execution_count": 2,
     "metadata": {},
     "output_type": "execute_result"
    }
   ],
   "source": [
    "# Load the dataset\n",
    "df = pd.read_csv('train.csv')\n",
    "\n",
    "# Display the first few rows\n",
    "df.head()\n",
    "\n",
    "# Explanation: This provides data types and counts of non-null values in each column.\n"
   ]
  },
  {
   "cell_type": "code",
   "execution_count": 3,
   "metadata": {},
   "outputs": [
    {
     "data": {
      "text/plain": [
       "PassengerId      0\n",
       "Survived         0\n",
       "Pclass           0\n",
       "Name             0\n",
       "Sex              0\n",
       "Age            177\n",
       "SibSp            0\n",
       "Parch            0\n",
       "Ticket           0\n",
       "Fare             0\n",
       "Cabin          687\n",
       "Embarked         2\n",
       "dtype: int64"
      ]
     },
     "execution_count": 3,
     "metadata": {},
     "output_type": "execute_result"
    }
   ],
   "source": [
    "# Check for missing values\n",
    "df.isnull().sum()\n",
    "\n",
    "#Explanation: Identifies columns with missing values and the number of missing entries.\n",
    "\n"
   ]
  },
  {
   "cell_type": "markdown",
   "metadata": {},
   "source": [
    "2.3 Statistical Summary\n",
    "\n",
    "Get a statistical overview of numerical features."
   ]
  },
  {
   "cell_type": "code",
   "execution_count": 4,
   "metadata": {},
   "outputs": [
    {
     "data": {
      "text/html": [
       "<div>\n",
       "<style scoped>\n",
       "    .dataframe tbody tr th:only-of-type {\n",
       "        vertical-align: middle;\n",
       "    }\n",
       "\n",
       "    .dataframe tbody tr th {\n",
       "        vertical-align: top;\n",
       "    }\n",
       "\n",
       "    .dataframe thead th {\n",
       "        text-align: right;\n",
       "    }\n",
       "</style>\n",
       "<table border=\"1\" class=\"dataframe\">\n",
       "  <thead>\n",
       "    <tr style=\"text-align: right;\">\n",
       "      <th></th>\n",
       "      <th>PassengerId</th>\n",
       "      <th>Survived</th>\n",
       "      <th>Pclass</th>\n",
       "      <th>Age</th>\n",
       "      <th>SibSp</th>\n",
       "      <th>Parch</th>\n",
       "      <th>Fare</th>\n",
       "    </tr>\n",
       "  </thead>\n",
       "  <tbody>\n",
       "    <tr>\n",
       "      <th>count</th>\n",
       "      <td>891.000000</td>\n",
       "      <td>891.000000</td>\n",
       "      <td>891.000000</td>\n",
       "      <td>714.000000</td>\n",
       "      <td>891.000000</td>\n",
       "      <td>891.000000</td>\n",
       "      <td>891.000000</td>\n",
       "    </tr>\n",
       "    <tr>\n",
       "      <th>mean</th>\n",
       "      <td>446.000000</td>\n",
       "      <td>0.383838</td>\n",
       "      <td>2.308642</td>\n",
       "      <td>29.699118</td>\n",
       "      <td>0.523008</td>\n",
       "      <td>0.381594</td>\n",
       "      <td>32.204208</td>\n",
       "    </tr>\n",
       "    <tr>\n",
       "      <th>std</th>\n",
       "      <td>257.353842</td>\n",
       "      <td>0.486592</td>\n",
       "      <td>0.836071</td>\n",
       "      <td>14.526497</td>\n",
       "      <td>1.102743</td>\n",
       "      <td>0.806057</td>\n",
       "      <td>49.693429</td>\n",
       "    </tr>\n",
       "    <tr>\n",
       "      <th>min</th>\n",
       "      <td>1.000000</td>\n",
       "      <td>0.000000</td>\n",
       "      <td>1.000000</td>\n",
       "      <td>0.420000</td>\n",
       "      <td>0.000000</td>\n",
       "      <td>0.000000</td>\n",
       "      <td>0.000000</td>\n",
       "    </tr>\n",
       "    <tr>\n",
       "      <th>25%</th>\n",
       "      <td>223.500000</td>\n",
       "      <td>0.000000</td>\n",
       "      <td>2.000000</td>\n",
       "      <td>20.125000</td>\n",
       "      <td>0.000000</td>\n",
       "      <td>0.000000</td>\n",
       "      <td>7.910400</td>\n",
       "    </tr>\n",
       "    <tr>\n",
       "      <th>50%</th>\n",
       "      <td>446.000000</td>\n",
       "      <td>0.000000</td>\n",
       "      <td>3.000000</td>\n",
       "      <td>28.000000</td>\n",
       "      <td>0.000000</td>\n",
       "      <td>0.000000</td>\n",
       "      <td>14.454200</td>\n",
       "    </tr>\n",
       "    <tr>\n",
       "      <th>75%</th>\n",
       "      <td>668.500000</td>\n",
       "      <td>1.000000</td>\n",
       "      <td>3.000000</td>\n",
       "      <td>38.000000</td>\n",
       "      <td>1.000000</td>\n",
       "      <td>0.000000</td>\n",
       "      <td>31.000000</td>\n",
       "    </tr>\n",
       "    <tr>\n",
       "      <th>max</th>\n",
       "      <td>891.000000</td>\n",
       "      <td>1.000000</td>\n",
       "      <td>3.000000</td>\n",
       "      <td>80.000000</td>\n",
       "      <td>8.000000</td>\n",
       "      <td>6.000000</td>\n",
       "      <td>512.329200</td>\n",
       "    </tr>\n",
       "  </tbody>\n",
       "</table>\n",
       "</div>"
      ],
      "text/plain": [
       "       PassengerId    Survived      Pclass         Age       SibSp  \\\n",
       "count   891.000000  891.000000  891.000000  714.000000  891.000000   \n",
       "mean    446.000000    0.383838    2.308642   29.699118    0.523008   \n",
       "std     257.353842    0.486592    0.836071   14.526497    1.102743   \n",
       "min       1.000000    0.000000    1.000000    0.420000    0.000000   \n",
       "25%     223.500000    0.000000    2.000000   20.125000    0.000000   \n",
       "50%     446.000000    0.000000    3.000000   28.000000    0.000000   \n",
       "75%     668.500000    1.000000    3.000000   38.000000    1.000000   \n",
       "max     891.000000    1.000000    3.000000   80.000000    8.000000   \n",
       "\n",
       "            Parch        Fare  \n",
       "count  891.000000  891.000000  \n",
       "mean     0.381594   32.204208  \n",
       "std      0.806057   49.693429  \n",
       "min      0.000000    0.000000  \n",
       "25%      0.000000    7.910400  \n",
       "50%      0.000000   14.454200  \n",
       "75%      0.000000   31.000000  \n",
       "max      6.000000  512.329200  "
      ]
     },
     "execution_count": 4,
     "metadata": {},
     "output_type": "execute_result"
    }
   ],
   "source": [
    "# Statistical summary\n",
    "df.describe()"
   ]
  },
  {
   "cell_type": "markdown",
   "metadata": {},
   "source": [
    "Step 3: Data Preprocessing\n",
    "\n",
    "3.1 Handling Missing Values\n",
    "\n",
    "Address missing values in the dataset."
   ]
  },
  {
   "cell_type": "code",
   "execution_count": 5,
   "metadata": {},
   "outputs": [],
   "source": [
    "# Fill missing values in 'Age' with the median age\n",
    "df['Age'].fillna(df['Age'].median(), inplace=True)\n",
    "\n",
    "# Fill missing values in 'Embarked' with the mode\n",
    "df['Embarked'].fillna(df['Embarked'].mode()[0], inplace=True)\n",
    "\n",
    "# Fill missing values in 'Fare' with the median fare (if any)\n",
    "df['Fare'].fillna(df['Fare'].median(), inplace=True)\n",
    "\n",
    "# Explanation:\n",
    "# Age: Filling with the median is appropriate for continuous numerical data.\n",
    "# Embarked: Mode is suitable for categorical data.\n",
    "# Fare: Ensures there are no missing values that could affect model training.\n",
    "\n"
   ]
  },
  {
   "cell_type": "markdown",
   "metadata": {},
   "source": [
    "3.2 Feature Engineering\n",
    "\n",
    "Create new features to enhance model performance."
   ]
  },
  {
   "cell_type": "code",
   "execution_count": 6,
   "metadata": {},
   "outputs": [],
   "source": [
    "# 3.2.1 Extracting Titles from Names\n",
    "df['Title'] = df['Name'].str.extract(' ([A-Za-z]+)\\.', expand=False)\n",
    "# Explanation: Titles may capture social status or marital status, which could influence survival rates.\n",
    "\n"
   ]
  },
  {
   "cell_type": "code",
   "execution_count": 7,
   "metadata": {},
   "outputs": [],
   "source": [
    "# Consolidate rare titles into a single category. & # Replace rare titles with 'Misc'\n",
    "rare_titles = ['Lady', 'Countess', 'Capt', 'Col', 'Don', 'Dr', 'Major', 'Rev', 'Sir', 'Jonkheer', 'Dona']\n",
    "df['Title'] = df['Title'].replace(rare_titles, 'Misc')"
   ]
  },
  {
   "cell_type": "code",
   "execution_count": 8,
   "metadata": {},
   "outputs": [],
   "source": [
    "# 3.2.2 Creating Family Size Feature\n",
    "df['FamilySize'] = df['SibSp'] + df['Parch'] + 1  # +1 to include the passenger themselves\n",
    "# Explanation: Family size may affect survival chances, as families might stay together.\n"
   ]
  },
  {
   "cell_type": "code",
   "execution_count": 9,
   "metadata": {},
   "outputs": [],
   "source": [
    "# 3.2.3 Binning Age and Fare\n",
    "df['AgeBin'] = pd.cut(df['Age'], bins=[0, 12, 20, 40, 120], labels=['Child', 'Teenager', 'Adult', 'Senior'])\n",
    "df['FareBin'] = pd.qcut(df['Fare'], 4, labels=['Low', 'Medium', 'High', 'Very High'])\n",
    "\n",
    "# Explanation: Binning reduces the effect of outliers and captures non-linear relationships.\n"
   ]
  },
  {
   "cell_type": "markdown",
   "metadata": {},
   "source": [
    "Step 4: Exploratory Data Analysis (EDA)\n",
    "\n",
    "Visualize data to uncover patterns and relationships."
   ]
  },
  {
   "cell_type": "markdown",
   "metadata": {},
   "source": [
    "4.1 Survival Rates\n"
   ]
  },
  {
   "cell_type": "code",
   "execution_count": 10,
   "metadata": {},
   "outputs": [
    {
     "data": {
      "image/png": "[encoded data removed]",
      "text/plain": [
       "<Figure size 432x288 with 1 Axes>"
      ]
     },
     "metadata": {
      "needs_background": "light"
     },
     "output_type": "display_data"
    }
   ],
   "source": [
    "# Plot survival counts\n",
    "# Custom blue and green color palette\n",
    "custom_palette = sns.color_palette([\"#FF9999\", \"#55A868\"])  # Light Red and Green\n",
    "\n",
    "# Set the palette for Seaborn plots\n",
    "sns.set_palette(custom_palette)\n",
    "\n",
    "# Plot the survival counts\n",
    "sns.countplot(x='Survived', data=df)\n",
    "plt.title('Overall Survival Counts (Blue and Green)')\n",
    "plt.show()"
   ]
  },
  {
   "cell_type": "markdown",
   "metadata": {},
   "source": [
    "4.2 Survival by Gender\n"
   ]
  },
  {
   "cell_type": "code",
   "execution_count": 11,
   "metadata": {},
   "outputs": [
    {
     "data": {
      "image/png": "[encoded data removed]",
      "text/plain": [
       "<Figure size 432x288 with 1 Axes>"
      ]
     },
     "metadata": {
      "needs_background": "light"
     },
     "output_type": "display_data"
    }
   ],
   "source": [
    "# Plot survival by gender\n",
    "sns.countplot(x='Sex', hue='Survived', data=df)\n",
    "plt.title('Survival by Gender (Blue and Green)')\n",
    "plt.show()\n",
    "\n",
    "#Insight: Females might have higher survival rates.\n"
   ]
  },
  {
   "cell_type": "markdown",
   "metadata": {},
   "source": [
    "4.3 Survival by Passenger Class"
   ]
  },
  {
   "cell_type": "code",
   "execution_count": 12,
   "metadata": {},
   "outputs": [
    {
     "data": {
      "image/png": "[encoded data removed]",
      "text/plain": [
       "<Figure size 432x288 with 1 Axes>"
      ]
     },
     "metadata": {
      "needs_background": "light"
     },
     "output_type": "display_data"
    }
   ],
   "source": [
    "# Plot survival by passenger class\n",
    "sns.countplot(x='Pclass', hue='Survived', data=df)\n",
    "plt.title('Survival by Passenger Class (Blue and Green)')\n",
    "plt.show()"
   ]
  },
  {
   "cell_type": "markdown",
   "metadata": {},
   "source": [
    "4.4 Survival by Age Bin\n"
   ]
  },
  {
   "cell_type": "code",
   "execution_count": 13,
   "metadata": {},
   "outputs": [
    {
     "data": {
      "image/png": "[encoded data removed]",
      "text/plain": [
       "<Figure size 432x288 with 1 Axes>"
      ]
     },
     "metadata": {
      "needs_background": "light"
     },
     "output_type": "display_data"
    }
   ],
   "source": [
    "# Plot survival by age bin\n",
    "sns.countplot(x='AgeBin', hue='Survived', data=df)\n",
    "plt.title('Survival by Age Categories (Blue and Green)')\n",
    "plt.show()\n"
   ]
  },
  {
   "cell_type": "markdown",
   "metadata": {},
   "source": [
    "Step 5: Data Encoding\n",
    "\n",
    "Convert categorical variables into numerical format."
   ]
  },
  {
   "cell_type": "markdown",
   "metadata": {},
   "source": [
    "5.1 Encoding Categorical Variables\n"
   ]
  },
  {
   "cell_type": "code",
   "execution_count": 14,
   "metadata": {},
   "outputs": [],
   "source": [
    "# Map 'Sex' to numerical values\n",
    "df['Sex'] = df['Sex'].map({'male': 1, 'female': 0}).astype(int)\n"
   ]
  },
  {
   "cell_type": "markdown",
   "metadata": {},
   "source": [
    "5.2 One-Hot Encoding\n"
   ]
  },
  {
   "cell_type": "code",
   "execution_count": 15,
   "metadata": {},
   "outputs": [],
   "source": [
    "# One-hot encode categorical variables\n",
    "df = pd.get_dummies(df, columns=['Embarked', 'Title', 'AgeBin', 'FareBin'], drop_first=True)\n",
    "#Explanation: drop_first=True avoids multicollinearity by dropping the first category.\n"
   ]
  },
  {
   "cell_type": "markdown",
   "metadata": {},
   "source": [
    "Step 6: Preparing Data for Modeling\n",
    "\n",
    "6.1 Define Features and Target Variable"
   ]
  },
  {
   "cell_type": "code",
   "execution_count": 16,
   "metadata": {},
   "outputs": [],
   "source": [
    "# Drop unnecessary columns\n",
    "df.drop(['PassengerId', 'Name', 'Ticket', 'Cabin'], axis=1, inplace=True)\n",
    "\n",
    "# Define features and target\n",
    "X = df.drop('Survived', axis=1)\n",
    "y = df['Survived']\n"
   ]
  },
  {
   "cell_type": "markdown",
   "metadata": {},
   "source": [
    "6.2 Split Data into Training and Testing Sets\n"
   ]
  },
  {
   "cell_type": "code",
   "execution_count": 17,
   "metadata": {},
   "outputs": [],
   "source": [
    "# Split the dataset\n",
    "X_train, X_test, y_train, y_test = train_test_split(X, y, test_size=0.2, random_state=42)\n"
   ]
  },
  {
   "cell_type": "markdown",
   "metadata": {},
   "source": [
    "Step 7: Model Building\n"
   ]
  },
  {
   "cell_type": "markdown",
   "metadata": {},
   "source": [
    "7.1 Build Random Forest Model\n"
   ]
  },
  {
   "cell_type": "code",
   "execution_count": 18,
   "metadata": {},
   "outputs": [
    {
     "data": {
      "text/plain": [
       "RandomForestClassifier(random_state=42)"
      ]
     },
     "execution_count": 18,
     "metadata": {},
     "output_type": "execute_result"
    }
   ],
   "source": [
    "# Initialize the model\n",
    "rf_model = RandomForestClassifier(n_estimators=100, random_state=42)\n",
    "\n",
    "# Train the model\n",
    "rf_model.fit(X_train, y_train)\n"
   ]
  },
  {
   "cell_type": "markdown",
   "metadata": {},
   "source": [
    "7.2 Model Evaluation\n"
   ]
  },
  {
   "cell_type": "code",
   "execution_count": 19,
   "metadata": {},
   "outputs": [
    {
     "name": "stdout",
     "output_type": "stream",
     "text": [
      "Accuracy: 0.8156424581005587\n",
      "Confusion Matrix:\n",
      " [[87 18]\n",
      " [15 59]]\n",
      "Classification Report:\n",
      "               precision    recall  f1-score   support\n",
      "\n",
      "           0       0.85      0.83      0.84       105\n",
      "           1       0.77      0.80      0.78        74\n",
      "\n",
      "    accuracy                           0.82       179\n",
      "   macro avg       0.81      0.81      0.81       179\n",
      "weighted avg       0.82      0.82      0.82       179\n",
      "\n"
     ]
    }
   ],
   "source": [
    "# Make predictions\n",
    "y_pred = rf_model.predict(X_test)\n",
    "\n",
    "# Evaluate the model\n",
    "print('Accuracy:', accuracy_score(y_test, y_pred))\n",
    "print('Confusion Matrix:\\n', confusion_matrix(y_test, y_pred))\n",
    "print('Classification Report:\\n', classification_report(y_test, y_pred))\n",
    "\n",
    "\n",
    "# Explanation:\n",
    "# Accuracy: Overall correctness of the model.\n",
    "# Confusion Matrix: Details true vs. predicted classifications.\n",
    "# Classification Report: Precision, recall, and F1-score for each class.\n"
   ]
  },
  {
   "cell_type": "markdown",
   "metadata": {},
   "source": [
    "Step 8: Hyperparameter Tuning\n",
    "\n",
    "Improve model performance by tuning parameters."
   ]
  },
  {
   "cell_type": "markdown",
   "metadata": {},
   "source": [
    "8.1 Define Parameter Grid\n"
   ]
  },
  {
   "cell_type": "code",
   "execution_count": 20,
   "metadata": {},
   "outputs": [],
   "source": [
    "# Define hyperparameter grid\n",
    "param_grid = {\n",
    "    'n_estimators': [100, 200, 500],\n",
    "    'max_depth': [None, 10, 20, 30],\n",
    "    'min_samples_split': [2, 5, 10],\n",
    "    'min_samples_leaf': [1, 2, 4],\n",
    "    'bootstrap': [True, False]\n",
    "}\n"
   ]
  },
  {
   "cell_type": "markdown",
   "metadata": {},
   "source": [
    "8.2 Perform Randomized Search\n"
   ]
  },
  {
   "cell_type": "code",
   "execution_count": 21,
   "metadata": {},
   "outputs": [],
   "source": [
    "# Initialize RandomizedSearchCV\n",
    "rf_random = RandomizedSearchCV(estimator=rf_model, param_distributions=param_grid,\n",
    "                               n_iter=50, cv=3, random_state=42, n_jobs=-1)\n",
    "\n",
    "# Fit the model\n",
    "rf_random.fit(X_train, y_train)\n",
    "\n",
    "# Adjust the max_depth to control how deep each tree can go\n",
    "rf_model = RandomForestClassifier(n_estimators=100, max_depth=10, random_state=42)\n",
    "rf_model.fit(X_train, y_train)\n",
    "\n",
    "X_train, X_test, y_train, y_test = train_test_split(X, y, test_size=0.2, random_state=24)\n"
   ]
  },
  {
   "cell_type": "markdown",
   "metadata": {},
   "source": [
    "8.3 Evaluate Tuned Model\n"
   ]
  },
  {
   "cell_type": "code",
   "execution_count": 22,
   "metadata": {},
   "outputs": [
    {
     "name": "stdout",
     "output_type": "stream",
     "text": [
      "Best Parameters: {'n_estimators': 200, 'min_samples_split': 5, 'min_samples_leaf': 4, 'max_depth': 20, 'bootstrap': False}\n",
      "Accuracy after Tuning: 0.8770949720670391\n",
      "Confusion Matrix:\n",
      " [[109   8]\n",
      " [ 14  48]]\n",
      "Classification Report:\n",
      "               precision    recall  f1-score   support\n",
      "\n",
      "           0       0.89      0.93      0.91       117\n",
      "           1       0.86      0.77      0.81        62\n",
      "\n",
      "    accuracy                           0.88       179\n",
      "   macro avg       0.87      0.85      0.86       179\n",
      "weighted avg       0.88      0.88      0.88       179\n",
      "\n"
     ]
    }
   ],
   "source": [
    "# Best parameters\n",
    "print('Best Parameters:', rf_random.best_params_)\n",
    "\n",
    "# Make predictions with the best model\n",
    "best_model = rf_random.best_estimator_\n",
    "y_pred_tuned = best_model.predict(X_test)\n",
    "\n",
    "# Evaluate the tuned model\n",
    "print('Accuracy after Tuning:', accuracy_score(y_test, y_pred_tuned))\n",
    "print('Confusion Matrix:\\n', confusion_matrix(y_test, y_pred_tuned))\n",
    "print('Classification Report:\\n', classification_report(y_test, y_pred_tuned))\n"
   ]
  },
  {
   "cell_type": "markdown",
   "metadata": {},
   "source": [
    "Step 9: Feature Importance\n",
    "\n",
    "Identify which features contribute most to the model.\n",
    "\n",
    "\n"
   ]
  },
  {
   "cell_type": "code",
   "execution_count": 23,
   "metadata": {},
   "outputs": [
    {
     "data": {
      "image/png": "[encoded data removed]",
      "text/plain": [
       "<Figure size 864x432 with 1 Axes>"
      ]
     },
     "metadata": {
      "needs_background": "light"
     },
     "output_type": "display_data"
    }
   ],
   "source": [
    "# Feature importance\n",
    "\n",
    "importances = best_model.feature_importances_\n",
    "feature_names = X.columns\n",
    "feature_importance = pd.Series(importances, index=feature_names).sort_values(ascending=False)\n",
    "\n",
    "# Display feature importance\n",
    "feature_importance.plot(kind='bar', figsize=(12,6))\n",
    "plt.title('Feature Importance')\n",
    "plt.show()\n",
    "\n",
    "# Insight: Features like Fare, Age, Sex, and Title_Mr might be the most significant.\n",
    "\n",
    "\n"
   ]
  },
  {
   "cell_type": "markdown",
   "metadata": {},
   "source": [
    "Step 10: Conclusion\n",
    "\n",
    "Summarize of findings and reflect on the model's performance."
   ]
  },
  {
   "cell_type": "code",
   "execution_count": 24,
   "metadata": {},
   "outputs": [
    {
     "data": {
      "text/plain": [
       "\"\\nKey improvements After Tuning:\\nAccuracy: The accuracy increased significantly from 81.6% to 87.7%, which is a major improvement. The tuned model is better at making correct predictions overall.\\n\\nPrecision for Class 1 (Survived): Precision for predicting survivors increased from 77% to 86%, meaning that when the model predicts someone survived, it is much more likely to be correct.\\n\\nPrecision & Recall for Class 0 (Didn't Survive):\\n\\nThe recall for non-survivors (Class 0) improved from 83% to 93%, meaning the model is now better at identifying passengers who didn't survive.\\nPrecision for non-survivors increased as well, from 85% to 89%.\\nSlight Drop in Recall for Survivors: The only trade-off was a small drop in recall for survivors (Class 1) from 80% to 77%, meaning that the model missed a few more survivors.\\n\\nWhy These Changes Happened:\\nIncreasing n_estimators to 200 allowed the model to make predictions by averaging over more trees, which improved its stability and performance.\\nDecreasing min_samples_leaf and min_samples_split allowed the model to capture more subtle patterns by letting the trees split more often.\\nLimiting max_depth to 20 helped prevent the trees from growing too deep, reducing overfitting and improving generalization.\\nDisabling bootstrap means that all samples are used for each tree, which can sometimes lead to better performance, especially when the data size is relatively small.\\n\\n- **Key Features**: `Fare`, `Age`, and `Sex` were significant predictors of survival.\\n\\n- **Insights**:\\n  - Higher fare-paying passengers had better survival rates.\\n  - Females and younger passengers were more likely to survive.\\n\\n\""
      ]
     },
     "execution_count": 24,
     "metadata": {},
     "output_type": "execute_result"
    }
   ],
   "source": [
    "### Conclusion\n",
    "'''\n",
    "Key improvements After Tuning:\n",
    "Accuracy: The accuracy increased significantly from 81.6% to 87.7%, which is a major improvement. The tuned model is better at making correct predictions overall.\n",
    "\n",
    "Precision for Class 1 (Survived): Precision for predicting survivors increased from 77% to 86%, meaning that when the model predicts someone survived, it is much more likely to be correct.\n",
    "\n",
    "Precision & Recall for Class 0 (Didn't Survive):\n",
    "\n",
    "The recall for non-survivors (Class 0) improved from 83% to 93%, meaning the model is now better at identifying passengers who didn't survive.\n",
    "Precision for non-survivors increased as well, from 85% to 89%.\n",
    "Slight Drop in Recall for Survivors: The only trade-off was a small drop in recall for survivors (Class 1) from 80% to 77%, meaning that the model missed a few more survivors.\n",
    "\n",
    "Why These Changes Happened:\n",
    "Increasing n_estimators to 200 allowed the model to make predictions by averaging over more trees, which improved its stability and performance.\n",
    "Decreasing min_samples_leaf and min_samples_split allowed the model to capture more subtle patterns by letting the trees split more often.\n",
    "Limiting max_depth to 20 helped prevent the trees from growing too deep, reducing overfitting and improving generalization.\n",
    "Disabling bootstrap means that all samples are used for each tree, which can sometimes lead to better performance, especially when the data size is relatively small.\n",
    "\n",
    "- **Key Features**: `Fare`, `Age`, and `Sex` were significant predictors of survival.\n",
    "\n",
    "- **Insights**:\n",
    "  - Higher fare-paying passengers had better survival rates.\n",
    "  - Females and younger passengers were more likely to survive.\n",
    "\n",
    "'''"
   ]
  },
  {
   "cell_type": "code",
   "execution_count": 25,
   "metadata": {},
   "outputs": [
    {
     "data": {
      "image/png": "[encoded data removed]",
      "text/plain": [
       "<Figure size 864x432 with 1 Axes>"
      ]
     },
     "metadata": {
      "needs_background": "light"
     },
     "output_type": "display_data"
    }
   ],
   "source": [
    "# Metrics for the first model\n",
    "first_model_metrics = {\n",
    "    'Accuracy': 0.8156,\n",
    "    'Precision Class 0': 0.85,\n",
    "    'Precision Class 1': 0.77,\n",
    "    'Recall Class 0': 0.83,\n",
    "    'Recall Class 1': 0.80,\n",
    "    'F1-Score Class 0': 0.84,\n",
    "    'F1-Score Class 1': 0.78\n",
    "}\n",
    "\n",
    "# Metrics for the second model (after tuning)\n",
    "second_model_metrics = {\n",
    "    'Accuracy': 0.8771,\n",
    "    'Precision Class 0': 0.89,\n",
    "    'Precision Class 1': 0.86,\n",
    "    'Recall Class 0': 0.93,\n",
    "    'Recall Class 1': 0.77,\n",
    "    'F1-Score Class 0': 0.91,\n",
    "    'F1-Score Class 1': 0.81\n",
    "}\n",
    "\n",
    "# Create categories\n",
    "categories = list(first_model_metrics.keys())\n",
    "first_model_values = list(first_model_metrics.values())\n",
    "second_model_values = list(second_model_metrics.values())\n",
    "\n",
    "# Number of metrics\n",
    "N = len(categories)\n",
    "\n",
    "# Set up the plot with increased width\n",
    "fig, ax = plt.subplots(figsize=(12, 6))  # Increase the width of the plot here (12 is the width, 6 is the height)\n",
    "\n",
    "# Set bar width\n",
    "width = 0.35  # Width of the bars\n",
    "\n",
    "# Plot\n",
    "ind = np.arange(N)\n",
    "\n",
    "# First model bar (light blue)\n",
    "bar1 = ax.bar(ind - width/2, first_model_values, width, label='First Model', color='#ADD8E6')  # Light Blue\n",
    "\n",
    "# Second model bar (turquoise)\n",
    "bar2 = ax.bar(ind + width/2, second_model_values, width, label='Tuned Model', color='#40E0D0')  # Turquoise\n",
    "\n",
    "# Add labels on top of the bars for the first model\n",
    "for i, v in enumerate(first_model_values):\n",
    "    ax.text(i - width/2, v + 0.01, f'{v:.2f}', ha='center', va='bottom')\n",
    "\n",
    "# Add labels on top of the bars for the second model\n",
    "for i, v in enumerate(second_model_values):\n",
    "    ax.text(i + width/2, v + 0.01, f'{v:.2f}', ha='center', va='bottom')\n",
    "\n",
    "# Labels and title\n",
    "ax.set_ylabel('Scores')\n",
    "ax.set_title('Comparison of First and Tuned Model')\n",
    "ax.set_xticks(ind)\n",
    "ax.set_xticklabels(categories, rotation=45, ha='right')\n",
    "ax.legend()\n",
    "\n",
    "# Display the plot\n",
    "plt.tight_layout()\n",
    "plt.show()"
   ]
  },
  {
   "cell_type": "markdown",
   "metadata": {},
   "source": [
    "### Apendix - another round to improve the model by minimizing the number of features based on feature importance."
   ]
  },
  {
   "cell_type": "markdown",
   "metadata": {},
   "source": [
    "Step 1: Feature Importance Review – We will identify the most important features and drop the less significant ones.\n"
   ]
  },
  {
   "cell_type": "code",
   "execution_count": 27,
   "metadata": {},
   "outputs": [
    {
     "name": "stdout",
     "output_type": "stream",
     "text": [
      "Title_Mr             0.217550\n",
      "Sex                  0.187108\n",
      "Fare                 0.121283\n",
      "Pclass               0.092215\n",
      "Age                  0.075974\n",
      "Title_Mrs            0.072860\n",
      "FamilySize           0.056108\n",
      "Title_Miss           0.046085\n",
      "SibSp                0.032490\n",
      "FareBin_Very High    0.020658\n",
      "Parch                0.019001\n",
      "Embarked_S           0.013596\n",
      "FareBin_Medium       0.009853\n",
      "AgeBin_Adult         0.008015\n",
      "FareBin_High         0.007550\n",
      "Title_Misc           0.007505\n",
      "AgeBin_Senior        0.005627\n",
      "Embarked_Q           0.003609\n",
      "AgeBin_Teenager      0.002914\n",
      "Title_Mme            0.000000\n",
      "Title_Ms             0.000000\n",
      "Title_Mlle           0.000000\n",
      "dtype: float64\n"
     ]
    }
   ],
   "source": [
    "importances = best_model.feature_importances_\n",
    "feature_names = X.columns\n",
    "feature_importance = pd.Series(importances, index=feature_names).sort_values(ascending=False)\n",
    "\n",
    "print(feature_importance)"
   ]
  },
  {
   "cell_type": "markdown",
   "metadata": {},
   "source": [
    "Step 2: Drop Low-Importance Features\n"
   ]
  },
  {
   "cell_type": "code",
   "execution_count": 28,
   "metadata": {},
   "outputs": [
    {
     "name": "stdout",
     "output_type": "stream",
     "text": [
      "Accuracy (Reduced Features): 0.8156424581005587\n",
      "Confusion Matrix (Reduced Features):\n",
      "[[100  17]\n",
      " [ 16  46]]\n",
      "Classification Report (Reduced Features):\n",
      "              precision    recall  f1-score   support\n",
      "\n",
      "           0       0.86      0.85      0.86       117\n",
      "           1       0.73      0.74      0.74        62\n",
      "\n",
      "    accuracy                           0.82       179\n",
      "   macro avg       0.80      0.80      0.80       179\n",
      "weighted avg       0.82      0.82      0.82       179\n",
      "\n"
     ]
    }
   ],
   "source": [
    "# Keep only important features\n",
    "important_features = ['Title_Mr', 'Sex', 'Fare', 'Pclass', 'Age', 'Title_Mrs', 'FamilySize', 'Title_Miss', 'SibSp', 'FareBin_Very High']\n",
    "\n",
    "# Create reduced feature datasets\n",
    "X_train_reduced = X_train[important_features]\n",
    "X_test_reduced = X_test[important_features]\n",
    "\n",
    "# Retrain the Random Forest model with reduced features\n",
    "rf_model_reduced = RandomForestClassifier(n_estimators=200, random_state=42)\n",
    "rf_model_reduced.fit(X_train_reduced, y_train)\n",
    "\n",
    "# Evaluate the reduced feature model\n",
    "y_pred_reduced = rf_model_reduced.predict(X_test_reduced)\n",
    "accuracy_reduced = accuracy_score(y_test, y_pred_reduced)\n",
    "conf_matrix_reduced = confusion_matrix(y_test, y_pred_reduced)\n",
    "class_report_reduced = classification_report(y_test, y_pred_reduced)\n",
    "\n",
    "print(f'Accuracy (Reduced Features): {accuracy_reduced}')\n",
    "print('Confusion Matrix (Reduced Features):')\n",
    "print(conf_matrix_reduced)\n",
    "print('Classification Report (Reduced Features):')\n",
    "print(class_report_reduced)\n"
   ]
  },
  {
   "cell_type": "markdown",
   "metadata": {},
   "source": [
    "Step 3: Compare All Models in One Graph\n"
   ]
  },
  {
   "cell_type": "code",
   "execution_count": 31,
   "metadata": {},
   "outputs": [
    {
     "data": {
      "image/png": "[encoded data removed]",
      "text/plain": [
       "<Figure size 864x432 with 1 Axes>"
      ]
     },
     "metadata": {
      "needs_background": "light"
     },
     "output_type": "display_data"
    }
   ],
   "source": [
    "# Metrics for the first model\n",
    "first_model_metrics = {\n",
    "    'Accuracy': 0.8156,\n",
    "    'Precision Class 0': 0.85,\n",
    "    'Precision Class 1': 0.77,\n",
    "    'Recall Class 0': 0.83,\n",
    "    'Recall Class 1': 0.80,\n",
    "    'F1-Score Class 0': 0.84,\n",
    "    'F1-Score Class 1': 0.78\n",
    "}\n",
    "\n",
    "# Metrics for the second model (after tuning)\n",
    "second_model_metrics = {\n",
    "    'Accuracy': 0.8771,\n",
    "    'Precision Class 0': 0.89,\n",
    "    'Precision Class 1': 0.86,\n",
    "    'Recall Class 0': 0.93,\n",
    "    'Recall Class 1': 0.77,\n",
    "    'F1-Score Class 0': 0.91,\n",
    "    'F1-Score Class 1': 0.81\n",
    "}\n",
    "\n",
    "# Metrics for the third model (reduced features)\n",
    "third_model_metrics = {\n",
    "    'Accuracy': 0.8156,\n",
    "    'Precision Class 0': 0.86,\n",
    "    'Precision Class 1': 0.73,\n",
    "    'Recall Class 0': 0.85,\n",
    "    'Recall Class 1': 0.74,\n",
    "    'F1-Score Class 0': 0.86,\n",
    "    'F1-Score Class 1': 0.74\n",
    "}\n",
    "\n",
    "# Create categories\n",
    "categories = list(first_model_metrics.keys())\n",
    "first_model_values = list(first_model_metrics.values())\n",
    "second_model_values = list(second_model_metrics.values())\n",
    "third_model_values = list(third_model_metrics.values())\n",
    "\n",
    "# Number of metrics\n",
    "N = len(categories)\n",
    "\n",
    "# Set up the plot with increased width\n",
    "fig, ax = plt.subplots(figsize=(12, 6))\n",
    "\n",
    "# Set bar width\n",
    "width = 0.25  # Width of the bars\n",
    "\n",
    "# Plot\n",
    "ind = np.arange(N)\n",
    "\n",
    "# First model bar (light blue)\n",
    "bar1 = ax.bar(ind - width, first_model_values, width, label='First Model', color='#ADD8E6')  # Light Blue\n",
    "\n",
    "# Second model bar (turquoise)\n",
    "bar2 = ax.bar(ind, second_model_values, width, label='Tuned Model', color='#40E0D0')  # Turquoise\n",
    "\n",
    "# Third model bar (light green)\n",
    "bar3 = ax.bar(ind + width, third_model_values, width, label='Reduced Features Model', color='#90EE90')  # Light Green\n",
    "\n",
    "# Add labels on top of the bars for the first model\n",
    "for i, v in enumerate(first_model_values):\n",
    "    ax.text(i - width, v + 0.01, f'{v:.2f}', ha='center', va='bottom')\n",
    "\n",
    "# Add labels on top of the bars for the second model\n",
    "for i, v in enumerate(second_model_values):\n",
    "    ax.text(i, v + 0.01, f'{v:.2f}', ha='center', va='bottom')\n",
    "\n",
    "# Add labels on top of the bars for the third model\n",
    "for i, v in enumerate(third_model_values):\n",
    "    ax.text(i + width, v + 0.01, f'{v:.2f}', ha='center', va='bottom')\n",
    "\n",
    "# Labels and title\n",
    "ax.set_ylabel('Scores')\n",
    "ax.set_title('Comparison of First, Tuned, and Reduced Features Models')\n",
    "ax.set_xticks(ind)\n",
    "ax.set_xticklabels(categories, rotation=45, ha='right')\n",
    "ax.legend()\n",
    "\n",
    "# Display the plot\n",
    "plt.tight_layout()\n",
    "plt.show()\n"
   ]
  },
  {
   "cell_type": "code",
   "execution_count": null,
   "metadata": {},
   "outputs": [],
   "source": []
  },
  {
   "cell_type": "code",
   "execution_count": null,
   "metadata": {},
   "outputs": [],
   "source": []
  }
 ],
 "metadata": {
  "kernelspec": {
   "display_name": "base",
   "language": "python",
   "name": "python3"
  },
  "language_info": {
   "codemirror_mode": {
    "name": "ipython",
    "version": 3
   },
   "file_extension": ".py",
   "mimetype": "text/x-python",
   "name": "python",
   "nbconvert_exporter": "python",
   "pygments_lexer": "ipython3",
   "version": "3.9.7"
  }
 },
 "nbformat": 4,
 "nbformat_minor": 2
}
